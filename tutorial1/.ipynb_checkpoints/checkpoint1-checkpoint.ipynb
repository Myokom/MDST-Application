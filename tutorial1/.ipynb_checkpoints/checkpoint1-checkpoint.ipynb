{
 "cells": [
  {
   "cell_type": "markdown",
   "metadata": {},
   "source": [
    "# Checkpoint 1"
   ]
  },
  {
   "cell_type": "markdown",
   "metadata": {},
   "source": [
    "Reminder: \n",
    "\n",
    "- You are being evaluated for compeletion and effort in this checkpoint. \n",
    "- Avoid manual labor / hard coding as much as possible, everything we've taught you so far are meant to simplify and automate your process."
   ]
  },
  {
   "cell_type": "markdown",
   "metadata": {},
   "source": [
    "We will be working with the same `states_edu.csv` that you should already be familiar with from the tutorial.\n",
    "\n",
    "We investigated Grade 8 reading score in the tutorial. For this checkpoint, you are asked to investigate another test. Here's an overview:\n",
    "\n",
    "* Choose a specific response variable to focus on\n",
    ">Grade 4 Math, Grade 4 Reading, Grade 8 Math\n",
    "* Pick or create features to use\n",
    ">Will all the features be useful in predicting test score? Are some more important than others? Should you standardize, bin, or scale the data?\n",
    "* Explore the data as it relates to that test\n",
    ">Create at least 2 visualizations (graphs), each with a caption describing the graph and what it tells us about the data\n",
    "* Create training and testing data\n",
    ">Do you want to train on all the data? Only data from the last 10 years? Only Michigan data?\n",
    "* Train a ML model to predict outcome \n",
    ">Define what you want to predict, and pick a model in sklearn to use (see sklearn <a href=\"https://scikit-learn.org/stable/modules/linear_model.html\">regressors</a>.\n",
    "* Summarize your findings\n",
    ">Write a 1 paragraph summary of what you did and make a recommendation about if and how student performance can be predicted\n",
    "\n",
    "Include comments throughout your code! Every cleanup and preprocessing task should be documented.\n",
    "\n",
    "Of course, if you're finding this assignment interesting (and we really hope you do!), you are welcome to do more than the requirements! For example, you may want to see if expenditure affects 4th graders more than 8th graders. Maybe you want to look into the extended version of this dataset and see how factors like sex and race are involved. You can include all your work in this notebook when you turn it in -- just always make sure you explain what you did and interpret your results. Good luck!"
   ]
  },
  {
   "cell_type": "markdown",
   "metadata": {},
   "source": [
    "<h2> Data Cleanup </h2>\n",
    "\n",
    "Import `numpy`, `pandas`, and `matplotlib`.\n",
    "\n",
    "(Feel free to import other libraries!)"
   ]
  },
  {
   "cell_type": "code",
   "execution_count": 1,
   "metadata": {},
   "outputs": [],
   "source": [
    "import pandas as pd\n",
    "import numpy as np\n",
    "import matplotlib.pyplot as plt"
   ]
  },
  {
   "cell_type": "markdown",
   "metadata": {},
   "source": [
    "Load in the \"states_edu.csv\" dataset and take a look at the head of the data"
   ]
  },
  {
   "cell_type": "code",
   "execution_count": 4,
   "metadata": {},
   "outputs": [
    {
     "data": {
      "text/html": [
       "<div>\n",
       "<style scoped>\n",
       "    .dataframe tbody tr th:only-of-type {\n",
       "        vertical-align: middle;\n",
       "    }\n",
       "\n",
       "    .dataframe tbody tr th {\n",
       "        vertical-align: top;\n",
       "    }\n",
       "\n",
       "    .dataframe thead th {\n",
       "        text-align: right;\n",
       "    }\n",
       "</style>\n",
       "<table border=\"1\" class=\"dataframe\">\n",
       "  <thead>\n",
       "    <tr style=\"text-align: right;\">\n",
       "      <th></th>\n",
       "      <th>PRIMARY_KEY</th>\n",
       "      <th>STATE</th>\n",
       "      <th>YEAR</th>\n",
       "      <th>ENROLL</th>\n",
       "      <th>TOTAL_REVENUE</th>\n",
       "      <th>FEDERAL_REVENUE</th>\n",
       "      <th>STATE_REVENUE</th>\n",
       "      <th>LOCAL_REVENUE</th>\n",
       "      <th>TOTAL_EXPENDITURE</th>\n",
       "      <th>INSTRUCTION_EXPENDITURE</th>\n",
       "      <th>...</th>\n",
       "      <th>GRADES_4_G</th>\n",
       "      <th>GRADES_8_G</th>\n",
       "      <th>GRADES_12_G</th>\n",
       "      <th>GRADES_1_8_G</th>\n",
       "      <th>GRADES_9_12_G</th>\n",
       "      <th>GRADES_ALL_G</th>\n",
       "      <th>AVG_MATH_4_SCORE</th>\n",
       "      <th>AVG_MATH_8_SCORE</th>\n",
       "      <th>AVG_READING_4_SCORE</th>\n",
       "      <th>AVG_READING_8_SCORE</th>\n",
       "    </tr>\n",
       "  </thead>\n",
       "  <tbody>\n",
       "    <tr>\n",
       "      <th>0</th>\n",
       "      <td>1992_ALABAMA</td>\n",
       "      <td>ALABAMA</td>\n",
       "      <td>1992</td>\n",
       "      <td>NaN</td>\n",
       "      <td>2678885.0</td>\n",
       "      <td>304177.0</td>\n",
       "      <td>1659028.0</td>\n",
       "      <td>715680.0</td>\n",
       "      <td>2653798.0</td>\n",
       "      <td>1481703.0</td>\n",
       "      <td>...</td>\n",
       "      <td>57948.0</td>\n",
       "      <td>58025.0</td>\n",
       "      <td>41167.0</td>\n",
       "      <td>NaN</td>\n",
       "      <td>NaN</td>\n",
       "      <td>731634.0</td>\n",
       "      <td>208.0</td>\n",
       "      <td>252.0</td>\n",
       "      <td>207.0</td>\n",
       "      <td>NaN</td>\n",
       "    </tr>\n",
       "    <tr>\n",
       "      <th>1</th>\n",
       "      <td>1992_ALASKA</td>\n",
       "      <td>ALASKA</td>\n",
       "      <td>1992</td>\n",
       "      <td>NaN</td>\n",
       "      <td>1049591.0</td>\n",
       "      <td>106780.0</td>\n",
       "      <td>720711.0</td>\n",
       "      <td>222100.0</td>\n",
       "      <td>972488.0</td>\n",
       "      <td>498362.0</td>\n",
       "      <td>...</td>\n",
       "      <td>9748.0</td>\n",
       "      <td>8789.0</td>\n",
       "      <td>6714.0</td>\n",
       "      <td>NaN</td>\n",
       "      <td>NaN</td>\n",
       "      <td>122487.0</td>\n",
       "      <td>NaN</td>\n",
       "      <td>NaN</td>\n",
       "      <td>NaN</td>\n",
       "      <td>NaN</td>\n",
       "    </tr>\n",
       "    <tr>\n",
       "      <th>2</th>\n",
       "      <td>1992_ARIZONA</td>\n",
       "      <td>ARIZONA</td>\n",
       "      <td>1992</td>\n",
       "      <td>NaN</td>\n",
       "      <td>3258079.0</td>\n",
       "      <td>297888.0</td>\n",
       "      <td>1369815.0</td>\n",
       "      <td>1590376.0</td>\n",
       "      <td>3401580.0</td>\n",
       "      <td>1435908.0</td>\n",
       "      <td>...</td>\n",
       "      <td>55433.0</td>\n",
       "      <td>49081.0</td>\n",
       "      <td>37410.0</td>\n",
       "      <td>NaN</td>\n",
       "      <td>NaN</td>\n",
       "      <td>673477.0</td>\n",
       "      <td>215.0</td>\n",
       "      <td>265.0</td>\n",
       "      <td>209.0</td>\n",
       "      <td>NaN</td>\n",
       "    </tr>\n",
       "    <tr>\n",
       "      <th>3</th>\n",
       "      <td>1992_ARKANSAS</td>\n",
       "      <td>ARKANSAS</td>\n",
       "      <td>1992</td>\n",
       "      <td>NaN</td>\n",
       "      <td>1711959.0</td>\n",
       "      <td>178571.0</td>\n",
       "      <td>958785.0</td>\n",
       "      <td>574603.0</td>\n",
       "      <td>1743022.0</td>\n",
       "      <td>964323.0</td>\n",
       "      <td>...</td>\n",
       "      <td>34632.0</td>\n",
       "      <td>36011.0</td>\n",
       "      <td>27651.0</td>\n",
       "      <td>NaN</td>\n",
       "      <td>NaN</td>\n",
       "      <td>441490.0</td>\n",
       "      <td>210.0</td>\n",
       "      <td>256.0</td>\n",
       "      <td>211.0</td>\n",
       "      <td>NaN</td>\n",
       "    </tr>\n",
       "    <tr>\n",
       "      <th>4</th>\n",
       "      <td>1992_CALIFORNIA</td>\n",
       "      <td>CALIFORNIA</td>\n",
       "      <td>1992</td>\n",
       "      <td>NaN</td>\n",
       "      <td>26260025.0</td>\n",
       "      <td>2072470.0</td>\n",
       "      <td>16546514.0</td>\n",
       "      <td>7641041.0</td>\n",
       "      <td>27138832.0</td>\n",
       "      <td>14358922.0</td>\n",
       "      <td>...</td>\n",
       "      <td>418418.0</td>\n",
       "      <td>363296.0</td>\n",
       "      <td>270675.0</td>\n",
       "      <td>NaN</td>\n",
       "      <td>NaN</td>\n",
       "      <td>5254844.0</td>\n",
       "      <td>208.0</td>\n",
       "      <td>261.0</td>\n",
       "      <td>202.0</td>\n",
       "      <td>NaN</td>\n",
       "    </tr>\n",
       "    <tr>\n",
       "      <th>...</th>\n",
       "      <td>...</td>\n",
       "      <td>...</td>\n",
       "      <td>...</td>\n",
       "      <td>...</td>\n",
       "      <td>...</td>\n",
       "      <td>...</td>\n",
       "      <td>...</td>\n",
       "      <td>...</td>\n",
       "      <td>...</td>\n",
       "      <td>...</td>\n",
       "      <td>...</td>\n",
       "      <td>...</td>\n",
       "      <td>...</td>\n",
       "      <td>...</td>\n",
       "      <td>...</td>\n",
       "      <td>...</td>\n",
       "      <td>...</td>\n",
       "      <td>...</td>\n",
       "      <td>...</td>\n",
       "      <td>...</td>\n",
       "      <td>...</td>\n",
       "    </tr>\n",
       "    <tr>\n",
       "      <th>95</th>\n",
       "      <td>1993_UTAH</td>\n",
       "      <td>UTAH</td>\n",
       "      <td>1993</td>\n",
       "      <td>462323.0</td>\n",
       "      <td>1638305.0</td>\n",
       "      <td>116791.0</td>\n",
       "      <td>928596.0</td>\n",
       "      <td>592918.0</td>\n",
       "      <td>1665011.0</td>\n",
       "      <td>881924.0</td>\n",
       "      <td>...</td>\n",
       "      <td>35467.0</td>\n",
       "      <td>38031.0</td>\n",
       "      <td>31692.0</td>\n",
       "      <td>NaN</td>\n",
       "      <td>NaN</td>\n",
       "      <td>471365.0</td>\n",
       "      <td>NaN</td>\n",
       "      <td>NaN</td>\n",
       "      <td>NaN</td>\n",
       "      <td>NaN</td>\n",
       "    </tr>\n",
       "    <tr>\n",
       "      <th>96</th>\n",
       "      <td>1993_VERMONT</td>\n",
       "      <td>VERMONT</td>\n",
       "      <td>1993</td>\n",
       "      <td>97454.0</td>\n",
       "      <td>837540.0</td>\n",
       "      <td>34179.0</td>\n",
       "      <td>216778.0</td>\n",
       "      <td>586583.0</td>\n",
       "      <td>809853.0</td>\n",
       "      <td>405876.0</td>\n",
       "      <td>...</td>\n",
       "      <td>8457.0</td>\n",
       "      <td>7496.0</td>\n",
       "      <td>6227.0</td>\n",
       "      <td>NaN</td>\n",
       "      <td>NaN</td>\n",
       "      <td>102755.0</td>\n",
       "      <td>NaN</td>\n",
       "      <td>NaN</td>\n",
       "      <td>NaN</td>\n",
       "      <td>NaN</td>\n",
       "    </tr>\n",
       "    <tr>\n",
       "      <th>97</th>\n",
       "      <td>1993_VIRGINIA</td>\n",
       "      <td>VIRGINIA</td>\n",
       "      <td>1993</td>\n",
       "      <td>1032842.0</td>\n",
       "      <td>5918536.0</td>\n",
       "      <td>365601.0</td>\n",
       "      <td>2358711.0</td>\n",
       "      <td>3194224.0</td>\n",
       "      <td>5955333.0</td>\n",
       "      <td>3121277.0</td>\n",
       "      <td>...</td>\n",
       "      <td>81615.0</td>\n",
       "      <td>78443.0</td>\n",
       "      <td>60314.0</td>\n",
       "      <td>NaN</td>\n",
       "      <td>NaN</td>\n",
       "      <td>1045471.0</td>\n",
       "      <td>NaN</td>\n",
       "      <td>NaN</td>\n",
       "      <td>NaN</td>\n",
       "      <td>NaN</td>\n",
       "    </tr>\n",
       "    <tr>\n",
       "      <th>98</th>\n",
       "      <td>1993_WASHINGTON</td>\n",
       "      <td>WASHINGTON</td>\n",
       "      <td>1993</td>\n",
       "      <td>896197.0</td>\n",
       "      <td>5270961.0</td>\n",
       "      <td>284396.0</td>\n",
       "      <td>3720223.0</td>\n",
       "      <td>1266342.0</td>\n",
       "      <td>5791436.0</td>\n",
       "      <td>2778268.0</td>\n",
       "      <td>...</td>\n",
       "      <td>73824.0</td>\n",
       "      <td>70666.0</td>\n",
       "      <td>55847.0</td>\n",
       "      <td>NaN</td>\n",
       "      <td>NaN</td>\n",
       "      <td>915952.0</td>\n",
       "      <td>NaN</td>\n",
       "      <td>NaN</td>\n",
       "      <td>NaN</td>\n",
       "      <td>NaN</td>\n",
       "    </tr>\n",
       "    <tr>\n",
       "      <th>99</th>\n",
       "      <td>1993_WEST_VIRGINIA</td>\n",
       "      <td>WEST_VIRGINIA</td>\n",
       "      <td>1993</td>\n",
       "      <td>317719.0</td>\n",
       "      <td>1832154.0</td>\n",
       "      <td>140913.0</td>\n",
       "      <td>1220263.0</td>\n",
       "      <td>470978.0</td>\n",
       "      <td>1829848.0</td>\n",
       "      <td>1023497.0</td>\n",
       "      <td>...</td>\n",
       "      <td>22349.0</td>\n",
       "      <td>25677.0</td>\n",
       "      <td>21507.0</td>\n",
       "      <td>NaN</td>\n",
       "      <td>NaN</td>\n",
       "      <td>314383.0</td>\n",
       "      <td>NaN</td>\n",
       "      <td>NaN</td>\n",
       "      <td>NaN</td>\n",
       "      <td>NaN</td>\n",
       "    </tr>\n",
       "  </tbody>\n",
       "</table>\n",
       "<p>100 rows × 25 columns</p>\n",
       "</div>"
      ],
      "text/plain": [
       "           PRIMARY_KEY          STATE  YEAR     ENROLL  TOTAL_REVENUE  \\\n",
       "0         1992_ALABAMA        ALABAMA  1992        NaN      2678885.0   \n",
       "1          1992_ALASKA         ALASKA  1992        NaN      1049591.0   \n",
       "2         1992_ARIZONA        ARIZONA  1992        NaN      3258079.0   \n",
       "3        1992_ARKANSAS       ARKANSAS  1992        NaN      1711959.0   \n",
       "4      1992_CALIFORNIA     CALIFORNIA  1992        NaN     26260025.0   \n",
       "..                 ...            ...   ...        ...            ...   \n",
       "95           1993_UTAH           UTAH  1993   462323.0      1638305.0   \n",
       "96        1993_VERMONT        VERMONT  1993    97454.0       837540.0   \n",
       "97       1993_VIRGINIA       VIRGINIA  1993  1032842.0      5918536.0   \n",
       "98     1993_WASHINGTON     WASHINGTON  1993   896197.0      5270961.0   \n",
       "99  1993_WEST_VIRGINIA  WEST_VIRGINIA  1993   317719.0      1832154.0   \n",
       "\n",
       "    FEDERAL_REVENUE  STATE_REVENUE  LOCAL_REVENUE  TOTAL_EXPENDITURE  \\\n",
       "0          304177.0      1659028.0       715680.0          2653798.0   \n",
       "1          106780.0       720711.0       222100.0           972488.0   \n",
       "2          297888.0      1369815.0      1590376.0          3401580.0   \n",
       "3          178571.0       958785.0       574603.0          1743022.0   \n",
       "4         2072470.0     16546514.0      7641041.0         27138832.0   \n",
       "..              ...            ...            ...                ...   \n",
       "95         116791.0       928596.0       592918.0          1665011.0   \n",
       "96          34179.0       216778.0       586583.0           809853.0   \n",
       "97         365601.0      2358711.0      3194224.0          5955333.0   \n",
       "98         284396.0      3720223.0      1266342.0          5791436.0   \n",
       "99         140913.0      1220263.0       470978.0          1829848.0   \n",
       "\n",
       "    INSTRUCTION_EXPENDITURE  ...  GRADES_4_G  GRADES_8_G  GRADES_12_G  \\\n",
       "0                 1481703.0  ...     57948.0     58025.0      41167.0   \n",
       "1                  498362.0  ...      9748.0      8789.0       6714.0   \n",
       "2                 1435908.0  ...     55433.0     49081.0      37410.0   \n",
       "3                  964323.0  ...     34632.0     36011.0      27651.0   \n",
       "4                14358922.0  ...    418418.0    363296.0     270675.0   \n",
       "..                      ...  ...         ...         ...          ...   \n",
       "95                 881924.0  ...     35467.0     38031.0      31692.0   \n",
       "96                 405876.0  ...      8457.0      7496.0       6227.0   \n",
       "97                3121277.0  ...     81615.0     78443.0      60314.0   \n",
       "98                2778268.0  ...     73824.0     70666.0      55847.0   \n",
       "99                1023497.0  ...     22349.0     25677.0      21507.0   \n",
       "\n",
       "    GRADES_1_8_G  GRADES_9_12_G  GRADES_ALL_G  AVG_MATH_4_SCORE  \\\n",
       "0            NaN            NaN      731634.0             208.0   \n",
       "1            NaN            NaN      122487.0               NaN   \n",
       "2            NaN            NaN      673477.0             215.0   \n",
       "3            NaN            NaN      441490.0             210.0   \n",
       "4            NaN            NaN     5254844.0             208.0   \n",
       "..           ...            ...           ...               ...   \n",
       "95           NaN            NaN      471365.0               NaN   \n",
       "96           NaN            NaN      102755.0               NaN   \n",
       "97           NaN            NaN     1045471.0               NaN   \n",
       "98           NaN            NaN      915952.0               NaN   \n",
       "99           NaN            NaN      314383.0               NaN   \n",
       "\n",
       "    AVG_MATH_8_SCORE  AVG_READING_4_SCORE  AVG_READING_8_SCORE  \n",
       "0              252.0                207.0                  NaN  \n",
       "1                NaN                  NaN                  NaN  \n",
       "2              265.0                209.0                  NaN  \n",
       "3              256.0                211.0                  NaN  \n",
       "4              261.0                202.0                  NaN  \n",
       "..               ...                  ...                  ...  \n",
       "95               NaN                  NaN                  NaN  \n",
       "96               NaN                  NaN                  NaN  \n",
       "97               NaN                  NaN                  NaN  \n",
       "98               NaN                  NaN                  NaN  \n",
       "99               NaN                  NaN                  NaN  \n",
       "\n",
       "[100 rows x 25 columns]"
      ]
     },
     "execution_count": 4,
     "metadata": {},
     "output_type": "execute_result"
    }
   ],
   "source": [
    "df = pd.read_csv(\"/Users/tobiasmadsen/Documents/UMich/MDST/2023-Tutorials-main/data/states_edu.csv\")\n",
    "\n",
    "df.head(100)"
   ]
  },
  {
   "cell_type": "markdown",
   "metadata": {},
   "source": [
    "You should always familiarize yourself with what each column in the dataframe represents. Read about the states_edu dataset here: https://www.kaggle.com/noriuk/us-education-datasets-unification-project"
   ]
  },
  {
   "cell_type": "markdown",
   "metadata": {},
   "source": [
    "Use this space to rename columns, deal with missing data, etc. _(optional)_"
   ]
  },
  {
   "cell_type": "code",
   "execution_count": 16,
   "metadata": {},
   "outputs": [],
   "source": [
    "# RENAME COLUMNS\n",
    "df.rename({\n",
    "    'GRADES_PK_G':'ENROLL_PREK',\n",
    "    'GRADES_KG_G':'ENROLL_KINDER',\n",
    "    'GRADES_4_G':'ENROLL_4',\n",
    "    'GRADES_8_G':'ENROLL_8',\n",
    "    'GRADES_12_G':'ENROLL_12',\n",
    "    'GRADES_1_8_G':'ENROLL_PRIMARY',\n",
    "    'GRADES_9_12_G':'ENROLL_HS',\n",
    "    'GRADES_ALL_G':'ENROLL_ALL',\n",
    "    'ENROLL':'ENROLL_ALL_EST'\n",
    "    },\n",
    "    axis=1,inplace=True)\n",
    "\n",
    "\n",
    "# DROP NAs\n",
    "\n"
   ]
  },
  {
   "cell_type": "markdown",
   "metadata": {},
   "source": [
    "<h2>Exploratory Data Analysis (EDA) </h2>"
   ]
  },
  {
   "cell_type": "markdown",
   "metadata": {},
   "source": [
    "Chosen Outcome Variable for Test: *AVG_MATH_8_SCORE\t*"
   ]
  },
  {
   "cell_type": "markdown",
   "metadata": {},
   "source": [
    "How many years of data are logged in our dataset? "
   ]
  },
  {
   "cell_type": "code",
   "execution_count": 15,
   "metadata": {},
   "outputs": [
    {
     "name": "stdout",
     "output_type": "stream",
     "text": [
      "33\n"
     ]
    }
   ],
   "source": [
    "print(df[\"YEAR\"].nunique())"
   ]
  },
  {
   "cell_type": "markdown",
   "metadata": {},
   "source": [
    "Let's compare Michigan to Ohio. Which state has the higher average outcome score across all years?"
   ]
  },
  {
   "cell_type": "code",
   "execution_count": 20,
   "metadata": {},
   "outputs": [
    {
     "data": {
      "text/html": [
       "<div>\n",
       "<style scoped>\n",
       "    .dataframe tbody tr th:only-of-type {\n",
       "        vertical-align: middle;\n",
       "    }\n",
       "\n",
       "    .dataframe tbody tr th {\n",
       "        vertical-align: top;\n",
       "    }\n",
       "\n",
       "    .dataframe thead th {\n",
       "        text-align: right;\n",
       "    }\n",
       "</style>\n",
       "<table border=\"1\" class=\"dataframe\">\n",
       "  <thead>\n",
       "    <tr style=\"text-align: right;\">\n",
       "      <th></th>\n",
       "      <th>PRIMARY_KEY</th>\n",
       "      <th>STATE</th>\n",
       "      <th>YEAR</th>\n",
       "      <th>ENROLL_ALL_EST</th>\n",
       "      <th>TOTAL_REVENUE</th>\n",
       "      <th>FEDERAL_REVENUE</th>\n",
       "      <th>STATE_REVENUE</th>\n",
       "      <th>LOCAL_REVENUE</th>\n",
       "      <th>TOTAL_EXPENDITURE</th>\n",
       "      <th>INSTRUCTION_EXPENDITURE</th>\n",
       "      <th>...</th>\n",
       "      <th>ENROLL_4</th>\n",
       "      <th>ENROLL_8</th>\n",
       "      <th>ENROLL_12</th>\n",
       "      <th>ENROLL_PRIMARY</th>\n",
       "      <th>ENROLL_HS</th>\n",
       "      <th>ENROLL_ALL</th>\n",
       "      <th>AVG_MATH_4_SCORE</th>\n",
       "      <th>AVG_MATH_8_SCORE</th>\n",
       "      <th>AVG_READING_4_SCORE</th>\n",
       "      <th>AVG_READING_8_SCORE</th>\n",
       "    </tr>\n",
       "  </thead>\n",
       "  <tbody>\n",
       "    <tr>\n",
       "      <th>22</th>\n",
       "      <td>1992_MICHIGAN</td>\n",
       "      <td>MICHIGAN</td>\n",
       "      <td>1992</td>\n",
       "      <td>NaN</td>\n",
       "      <td>9963137.0</td>\n",
       "      <td>537917.0</td>\n",
       "      <td>2539380.0</td>\n",
       "      <td>6885840.0</td>\n",
       "      <td>10170688.0</td>\n",
       "      <td>4681327.0</td>\n",
       "      <td>...</td>\n",
       "      <td>118963.0</td>\n",
       "      <td>114282.0</td>\n",
       "      <td>90655.0</td>\n",
       "      <td>NaN</td>\n",
       "      <td>NaN</td>\n",
       "      <td>1603610.0</td>\n",
       "      <td>220.0</td>\n",
       "      <td>267.0</td>\n",
       "      <td>216.0</td>\n",
       "      <td>NaN</td>\n",
       "    </tr>\n",
       "    <tr>\n",
       "      <th>35</th>\n",
       "      <td>1992_OHIO</td>\n",
       "      <td>OHIO</td>\n",
       "      <td>1992</td>\n",
       "      <td>NaN</td>\n",
       "      <td>9285961.0</td>\n",
       "      <td>472604.0</td>\n",
       "      <td>3631703.0</td>\n",
       "      <td>5181654.0</td>\n",
       "      <td>9483822.0</td>\n",
       "      <td>5172782.0</td>\n",
       "      <td>...</td>\n",
       "      <td>137839.0</td>\n",
       "      <td>137075.0</td>\n",
       "      <td>116085.0</td>\n",
       "      <td>NaN</td>\n",
       "      <td>NaN</td>\n",
       "      <td>1795199.0</td>\n",
       "      <td>219.0</td>\n",
       "      <td>268.0</td>\n",
       "      <td>217.0</td>\n",
       "      <td>NaN</td>\n",
       "    </tr>\n",
       "    <tr>\n",
       "      <th>73</th>\n",
       "      <td>1993_MICHIGAN</td>\n",
       "      <td>MICHIGAN</td>\n",
       "      <td>1993</td>\n",
       "      <td>1600650.0</td>\n",
       "      <td>11034174.0</td>\n",
       "      <td>594226.0</td>\n",
       "      <td>3326748.0</td>\n",
       "      <td>7113200.0</td>\n",
       "      <td>11430958.0</td>\n",
       "      <td>5411969.0</td>\n",
       "      <td>...</td>\n",
       "      <td>120049.0</td>\n",
       "      <td>116702.0</td>\n",
       "      <td>87447.0</td>\n",
       "      <td>NaN</td>\n",
       "      <td>NaN</td>\n",
       "      <td>1599377.0</td>\n",
       "      <td>NaN</td>\n",
       "      <td>NaN</td>\n",
       "      <td>NaN</td>\n",
       "      <td>NaN</td>\n",
       "    </tr>\n",
       "    <tr>\n",
       "      <th>86</th>\n",
       "      <td>1993_OHIO</td>\n",
       "      <td>OHIO</td>\n",
       "      <td>1993</td>\n",
       "      <td>1834239.0</td>\n",
       "      <td>10841606.0</td>\n",
       "      <td>509488.0</td>\n",
       "      <td>4156070.0</td>\n",
       "      <td>6176048.0</td>\n",
       "      <td>10385253.0</td>\n",
       "      <td>5522474.0</td>\n",
       "      <td>...</td>\n",
       "      <td>136317.0</td>\n",
       "      <td>141534.0</td>\n",
       "      <td>111932.0</td>\n",
       "      <td>NaN</td>\n",
       "      <td>NaN</td>\n",
       "      <td>1807319.0</td>\n",
       "      <td>NaN</td>\n",
       "      <td>NaN</td>\n",
       "      <td>NaN</td>\n",
       "      <td>NaN</td>\n",
       "    </tr>\n",
       "    <tr>\n",
       "      <th>124</th>\n",
       "      <td>1994_MICHIGAN</td>\n",
       "      <td>MICHIGAN</td>\n",
       "      <td>1994</td>\n",
       "      <td>1601845.0</td>\n",
       "      <td>11762546.0</td>\n",
       "      <td>658039.0</td>\n",
       "      <td>3489815.0</td>\n",
       "      <td>7614692.0</td>\n",
       "      <td>12023935.0</td>\n",
       "      <td>5825127.0</td>\n",
       "      <td>...</td>\n",
       "      <td>123829.0</td>\n",
       "      <td>117380.0</td>\n",
       "      <td>88136.0</td>\n",
       "      <td>NaN</td>\n",
       "      <td>NaN</td>\n",
       "      <td>1614784.0</td>\n",
       "      <td>NaN</td>\n",
       "      <td>NaN</td>\n",
       "      <td>NaN</td>\n",
       "      <td>NaN</td>\n",
       "    </tr>\n",
       "    <tr>\n",
       "      <th>...</th>\n",
       "      <td>...</td>\n",
       "      <td>...</td>\n",
       "      <td>...</td>\n",
       "      <td>...</td>\n",
       "      <td>...</td>\n",
       "      <td>...</td>\n",
       "      <td>...</td>\n",
       "      <td>...</td>\n",
       "      <td>...</td>\n",
       "      <td>...</td>\n",
       "      <td>...</td>\n",
       "      <td>...</td>\n",
       "      <td>...</td>\n",
       "      <td>...</td>\n",
       "      <td>...</td>\n",
       "      <td>...</td>\n",
       "      <td>...</td>\n",
       "      <td>...</td>\n",
       "      <td>...</td>\n",
       "      <td>...</td>\n",
       "      <td>...</td>\n",
       "    </tr>\n",
       "    <tr>\n",
       "      <th>1524</th>\n",
       "      <td>1990_OHIO</td>\n",
       "      <td>OHIO</td>\n",
       "      <td>1990</td>\n",
       "      <td>NaN</td>\n",
       "      <td>NaN</td>\n",
       "      <td>NaN</td>\n",
       "      <td>NaN</td>\n",
       "      <td>NaN</td>\n",
       "      <td>NaN</td>\n",
       "      <td>NaN</td>\n",
       "      <td>...</td>\n",
       "      <td>141402.0</td>\n",
       "      <td>132213.0</td>\n",
       "      <td>118605.0</td>\n",
       "      <td>NaN</td>\n",
       "      <td>NaN</td>\n",
       "      <td>1771089.0</td>\n",
       "      <td>NaN</td>\n",
       "      <td>264.0</td>\n",
       "      <td>NaN</td>\n",
       "      <td>NaN</td>\n",
       "    </tr>\n",
       "    <tr>\n",
       "      <th>1525</th>\n",
       "      <td>1991_OHIO</td>\n",
       "      <td>OHIO</td>\n",
       "      <td>1991</td>\n",
       "      <td>NaN</td>\n",
       "      <td>NaN</td>\n",
       "      <td>NaN</td>\n",
       "      <td>NaN</td>\n",
       "      <td>NaN</td>\n",
       "      <td>NaN</td>\n",
       "      <td>NaN</td>\n",
       "      <td>...</td>\n",
       "      <td>140401.0</td>\n",
       "      <td>131604.0</td>\n",
       "      <td>113420.0</td>\n",
       "      <td>NaN</td>\n",
       "      <td>NaN</td>\n",
       "      <td>1783767.0</td>\n",
       "      <td>NaN</td>\n",
       "      <td>NaN</td>\n",
       "      <td>NaN</td>\n",
       "      <td>NaN</td>\n",
       "    </tr>\n",
       "    <tr>\n",
       "      <th>1526</th>\n",
       "      <td>2017_OHIO</td>\n",
       "      <td>OHIO</td>\n",
       "      <td>2017</td>\n",
       "      <td>NaN</td>\n",
       "      <td>NaN</td>\n",
       "      <td>NaN</td>\n",
       "      <td>NaN</td>\n",
       "      <td>NaN</td>\n",
       "      <td>NaN</td>\n",
       "      <td>NaN</td>\n",
       "      <td>...</td>\n",
       "      <td>128118.0</td>\n",
       "      <td>130481.0</td>\n",
       "      <td>121801.0</td>\n",
       "      <td>NaN</td>\n",
       "      <td>517145.0</td>\n",
       "      <td>1704399.0</td>\n",
       "      <td>241.0</td>\n",
       "      <td>288.0</td>\n",
       "      <td>225.0</td>\n",
       "      <td>268.0</td>\n",
       "    </tr>\n",
       "    <tr>\n",
       "      <th>1685</th>\n",
       "      <td>2019_MICHIGAN</td>\n",
       "      <td>MICHIGAN</td>\n",
       "      <td>2019</td>\n",
       "      <td>NaN</td>\n",
       "      <td>NaN</td>\n",
       "      <td>NaN</td>\n",
       "      <td>NaN</td>\n",
       "      <td>NaN</td>\n",
       "      <td>NaN</td>\n",
       "      <td>NaN</td>\n",
       "      <td>...</td>\n",
       "      <td>NaN</td>\n",
       "      <td>NaN</td>\n",
       "      <td>NaN</td>\n",
       "      <td>NaN</td>\n",
       "      <td>NaN</td>\n",
       "      <td>NaN</td>\n",
       "      <td>236.0</td>\n",
       "      <td>280.0</td>\n",
       "      <td>218.0</td>\n",
       "      <td>263.0</td>\n",
       "    </tr>\n",
       "    <tr>\n",
       "      <th>1699</th>\n",
       "      <td>2019_OHIO</td>\n",
       "      <td>OHIO</td>\n",
       "      <td>2019</td>\n",
       "      <td>NaN</td>\n",
       "      <td>NaN</td>\n",
       "      <td>NaN</td>\n",
       "      <td>NaN</td>\n",
       "      <td>NaN</td>\n",
       "      <td>NaN</td>\n",
       "      <td>NaN</td>\n",
       "      <td>...</td>\n",
       "      <td>NaN</td>\n",
       "      <td>NaN</td>\n",
       "      <td>NaN</td>\n",
       "      <td>NaN</td>\n",
       "      <td>NaN</td>\n",
       "      <td>NaN</td>\n",
       "      <td>241.0</td>\n",
       "      <td>286.0</td>\n",
       "      <td>222.0</td>\n",
       "      <td>267.0</td>\n",
       "    </tr>\n",
       "  </tbody>\n",
       "</table>\n",
       "<p>66 rows × 25 columns</p>\n",
       "</div>"
      ],
      "text/plain": [
       "        PRIMARY_KEY     STATE  YEAR  ENROLL_ALL_EST  TOTAL_REVENUE  \\\n",
       "22    1992_MICHIGAN  MICHIGAN  1992             NaN      9963137.0   \n",
       "35        1992_OHIO      OHIO  1992             NaN      9285961.0   \n",
       "73    1993_MICHIGAN  MICHIGAN  1993       1600650.0     11034174.0   \n",
       "86        1993_OHIO      OHIO  1993       1834239.0     10841606.0   \n",
       "124   1994_MICHIGAN  MICHIGAN  1994       1601845.0     11762546.0   \n",
       "...             ...       ...   ...             ...            ...   \n",
       "1524      1990_OHIO      OHIO  1990             NaN            NaN   \n",
       "1525      1991_OHIO      OHIO  1991             NaN            NaN   \n",
       "1526      2017_OHIO      OHIO  2017             NaN            NaN   \n",
       "1685  2019_MICHIGAN  MICHIGAN  2019             NaN            NaN   \n",
       "1699      2019_OHIO      OHIO  2019             NaN            NaN   \n",
       "\n",
       "      FEDERAL_REVENUE  STATE_REVENUE  LOCAL_REVENUE  TOTAL_EXPENDITURE  \\\n",
       "22           537917.0      2539380.0      6885840.0         10170688.0   \n",
       "35           472604.0      3631703.0      5181654.0          9483822.0   \n",
       "73           594226.0      3326748.0      7113200.0         11430958.0   \n",
       "86           509488.0      4156070.0      6176048.0         10385253.0   \n",
       "124          658039.0      3489815.0      7614692.0         12023935.0   \n",
       "...               ...            ...            ...                ...   \n",
       "1524              NaN            NaN            NaN                NaN   \n",
       "1525              NaN            NaN            NaN                NaN   \n",
       "1526              NaN            NaN            NaN                NaN   \n",
       "1685              NaN            NaN            NaN                NaN   \n",
       "1699              NaN            NaN            NaN                NaN   \n",
       "\n",
       "      INSTRUCTION_EXPENDITURE  ...  ENROLL_4  ENROLL_8  ENROLL_12  \\\n",
       "22                  4681327.0  ...  118963.0  114282.0    90655.0   \n",
       "35                  5172782.0  ...  137839.0  137075.0   116085.0   \n",
       "73                  5411969.0  ...  120049.0  116702.0    87447.0   \n",
       "86                  5522474.0  ...  136317.0  141534.0   111932.0   \n",
       "124                 5825127.0  ...  123829.0  117380.0    88136.0   \n",
       "...                       ...  ...       ...       ...        ...   \n",
       "1524                      NaN  ...  141402.0  132213.0   118605.0   \n",
       "1525                      NaN  ...  140401.0  131604.0   113420.0   \n",
       "1526                      NaN  ...  128118.0  130481.0   121801.0   \n",
       "1685                      NaN  ...       NaN       NaN        NaN   \n",
       "1699                      NaN  ...       NaN       NaN        NaN   \n",
       "\n",
       "      ENROLL_PRIMARY  ENROLL_HS  ENROLL_ALL  AVG_MATH_4_SCORE  \\\n",
       "22               NaN        NaN   1603610.0             220.0   \n",
       "35               NaN        NaN   1795199.0             219.0   \n",
       "73               NaN        NaN   1599377.0               NaN   \n",
       "86               NaN        NaN   1807319.0               NaN   \n",
       "124              NaN        NaN   1614784.0               NaN   \n",
       "...              ...        ...         ...               ...   \n",
       "1524             NaN        NaN   1771089.0               NaN   \n",
       "1525             NaN        NaN   1783767.0               NaN   \n",
       "1526             NaN   517145.0   1704399.0             241.0   \n",
       "1685             NaN        NaN         NaN             236.0   \n",
       "1699             NaN        NaN         NaN             241.0   \n",
       "\n",
       "      AVG_MATH_8_SCORE  AVG_READING_4_SCORE  AVG_READING_8_SCORE  \n",
       "22               267.0                216.0                  NaN  \n",
       "35               268.0                217.0                  NaN  \n",
       "73                 NaN                  NaN                  NaN  \n",
       "86                 NaN                  NaN                  NaN  \n",
       "124                NaN                  NaN                  NaN  \n",
       "...                ...                  ...                  ...  \n",
       "1524             264.0                  NaN                  NaN  \n",
       "1525               NaN                  NaN                  NaN  \n",
       "1526             288.0                225.0                268.0  \n",
       "1685             280.0                218.0                263.0  \n",
       "1699             286.0                222.0                267.0  \n",
       "\n",
       "[66 rows x 25 columns]"
      ]
     },
     "execution_count": 20,
     "metadata": {},
     "output_type": "execute_result"
    }
   ],
   "source": [
    "michigan_ohio_df = df[df['STATE'].isin(['MICHIGAN', 'OHIO'])]\n",
    "\n",
    "michigan_ohio_df"
   ]
  },
  {
   "cell_type": "code",
   "execution_count": 30,
   "metadata": {},
   "outputs": [
    {
     "name": "stdout",
     "output_type": "stream",
     "text": [
      "Average Math score in 4th grade in Michigan is:  234.36363636363637\n",
      "Average Math score in 4th grade in Ohio is:  239.45454545454547\n"
     ]
    }
   ],
   "source": [
    "# 3. Group by STATE and YEAR, calculate the average math score\n",
    "state_average = df.groupby(['STATE'])['AVG_MATH_4_SCORE'].mean()\n",
    "\n",
    "print(\"Average Math score in 4th grade in Michigan is: \", state_average[\"MICHIGAN\"])\n",
    "print(\"Average Math score in 4th grade in Ohio is: \", state_average[\"OHIO\"])\n"
   ]
  },
  {
   "cell_type": "markdown",
   "metadata": {},
   "source": [
    "Find the average for your outcome score across all states in 2019"
   ]
  },
  {
   "cell_type": "code",
   "execution_count": 35,
   "metadata": {},
   "outputs": [
    {
     "data": {
      "text/plain": [
       "239.9433962264151"
      ]
     },
     "execution_count": 35,
     "metadata": {},
     "output_type": "execute_result"
    }
   ],
   "source": [
    "year_average = df.groupby(\"YEAR\")['AVG_MATH_4_SCORE'].mean()\n",
    "\n",
    "year_average[2019]"
   ]
  },
  {
   "cell_type": "markdown",
   "metadata": {},
   "source": [
    "Find the maximum outcome score for every state. \n",
    "\n",
    "Refer to the `Grouping and Aggregating` section in Tutorial 0 if you are stuck."
   ]
  },
  {
   "cell_type": "code",
   "execution_count": 36,
   "metadata": {},
   "outputs": [
    {
     "data": {
      "text/plain": [
       "STATE\n",
       "ALABAMA                 233.0\n",
       "ALASKA                  237.0\n",
       "ARIZONA                 240.0\n",
       "ARKANSAS                240.0\n",
       "CALIFORNIA              235.0\n",
       "COLORADO                247.0\n",
       "CONNECTICUT             245.0\n",
       "DELAWARE                243.0\n",
       "DISTRICT_OF_COLUMBIA    235.0\n",
       "DODEA                   250.0\n",
       "FLORIDA                 246.0\n",
       "GEORGIA                 240.0\n",
       "HAWAII                  243.0\n",
       "IDAHO                   242.0\n",
       "ILLINOIS                239.0\n",
       "INDIANA                 249.0\n",
       "IOWA                    246.0\n",
       "KANSAS                  248.0\n",
       "KENTUCKY                242.0\n",
       "LOUISIANA               234.0\n",
       "MAINE                   246.0\n",
       "MARYLAND                247.0\n",
       "MASSACHUSETTS           253.0\n",
       "MICHIGAN                238.0\n",
       "MINNESOTA               253.0\n",
       "MISSISSIPPI             241.0\n",
       "MISSOURI                241.0\n",
       "MONTANA                 244.0\n",
       "NATIONAL                242.0\n",
       "NEBRASKA                246.0\n",
       "NEVADA                  237.0\n",
       "NEW_HAMPSHIRE           253.0\n",
       "NEW_JERSEY              249.0\n",
       "NEW_MEXICO              233.0\n",
       "NEW_YORK                243.0\n",
       "NORTH_CAROLINA          245.0\n",
       "NORTH_DAKOTA            246.0\n",
       "OHIO                    246.0\n",
       "OKLAHOMA                240.0\n",
       "OREGON                  240.0\n",
       "PENNSYLVANIA            246.0\n",
       "RHODE_ISLAND            242.0\n",
       "SOUTH_CAROLINA          238.0\n",
       "SOUTH_DAKOTA            242.0\n",
       "TENNESSEE               241.0\n",
       "TEXAS                   244.0\n",
       "UTAH                    244.0\n",
       "VERMONT                 248.0\n",
       "VIRGINIA                248.0\n",
       "WASHINGTON              246.0\n",
       "WEST_VIRGINIA           237.0\n",
       "WISCONSIN               245.0\n",
       "WYOMING                 248.0\n",
       "Name: AVG_MATH_4_SCORE, dtype: float64"
      ]
     },
     "execution_count": 36,
     "metadata": {},
     "output_type": "execute_result"
    }
   ],
   "source": [
    "max_state = df.groupby(\"STATE\")['AVG_MATH_4_SCORE'].max()\n",
    "\n",
    "max_state"
   ]
  },
  {
   "cell_type": "markdown",
   "metadata": {},
   "source": [
    "<h2> Feature Engineering </h2>\n",
    "\n",
    "After exploring the data, you can choose to modify features that you would use to predict the performance of the students on your chosen response variable. \n",
    "\n",
    "You can also create your own features. For example, perhaps you figured that maybe a state's expenditure per student may affect their overall academic performance so you create a expenditure_per_student feature.\n",
    "\n",
    "Use this space to modify or create features."
   ]
  },
  {
   "cell_type": "code",
   "execution_count": 39,
   "metadata": {},
   "outputs": [
    {
     "data": {
      "text/html": [
       "<div>\n",
       "<style scoped>\n",
       "    .dataframe tbody tr th:only-of-type {\n",
       "        vertical-align: middle;\n",
       "    }\n",
       "\n",
       "    .dataframe tbody tr th {\n",
       "        vertical-align: top;\n",
       "    }\n",
       "\n",
       "    .dataframe thead th {\n",
       "        text-align: right;\n",
       "    }\n",
       "</style>\n",
       "<table border=\"1\" class=\"dataframe\">\n",
       "  <thead>\n",
       "    <tr style=\"text-align: right;\">\n",
       "      <th></th>\n",
       "      <th>PRIMARY_KEY</th>\n",
       "      <th>STATE</th>\n",
       "      <th>YEAR</th>\n",
       "      <th>ENROLL_ALL_EST</th>\n",
       "      <th>TOTAL_REVENUE</th>\n",
       "      <th>FEDERAL_REVENUE</th>\n",
       "      <th>STATE_REVENUE</th>\n",
       "      <th>LOCAL_REVENUE</th>\n",
       "      <th>TOTAL_EXPENDITURE</th>\n",
       "      <th>INSTRUCTION_EXPENDITURE</th>\n",
       "      <th>...</th>\n",
       "      <th>ENROLL_8</th>\n",
       "      <th>ENROLL_12</th>\n",
       "      <th>ENROLL_PRIMARY</th>\n",
       "      <th>ENROLL_HS</th>\n",
       "      <th>ENROLL_ALL</th>\n",
       "      <th>AVG_MATH_4_SCORE</th>\n",
       "      <th>AVG_MATH_8_SCORE</th>\n",
       "      <th>AVG_READING_4_SCORE</th>\n",
       "      <th>AVG_READING_8_SCORE</th>\n",
       "      <th>SUPPORT_SERVICES_EXPENDITURE_PER_STUDENT</th>\n",
       "    </tr>\n",
       "  </thead>\n",
       "  <tbody>\n",
       "    <tr>\n",
       "      <th>0</th>\n",
       "      <td>1992_ALABAMA</td>\n",
       "      <td>ALABAMA</td>\n",
       "      <td>1992</td>\n",
       "      <td>NaN</td>\n",
       "      <td>2678885.0</td>\n",
       "      <td>304177.0</td>\n",
       "      <td>1659028.0</td>\n",
       "      <td>715680.0</td>\n",
       "      <td>2653798.0</td>\n",
       "      <td>1481703.0</td>\n",
       "      <td>...</td>\n",
       "      <td>58025.0</td>\n",
       "      <td>41167.0</td>\n",
       "      <td>NaN</td>\n",
       "      <td>NaN</td>\n",
       "      <td>731634.0</td>\n",
       "      <td>208.0</td>\n",
       "      <td>252.0</td>\n",
       "      <td>207.0</td>\n",
       "      <td>NaN</td>\n",
       "      <td>1.004650</td>\n",
       "    </tr>\n",
       "    <tr>\n",
       "      <th>1</th>\n",
       "      <td>1992_ALASKA</td>\n",
       "      <td>ALASKA</td>\n",
       "      <td>1992</td>\n",
       "      <td>NaN</td>\n",
       "      <td>1049591.0</td>\n",
       "      <td>106780.0</td>\n",
       "      <td>720711.0</td>\n",
       "      <td>222100.0</td>\n",
       "      <td>972488.0</td>\n",
       "      <td>498362.0</td>\n",
       "      <td>...</td>\n",
       "      <td>8789.0</td>\n",
       "      <td>6714.0</td>\n",
       "      <td>NaN</td>\n",
       "      <td>NaN</td>\n",
       "      <td>122487.0</td>\n",
       "      <td>NaN</td>\n",
       "      <td>NaN</td>\n",
       "      <td>NaN</td>\n",
       "      <td>NaN</td>\n",
       "      <td>2.864810</td>\n",
       "    </tr>\n",
       "    <tr>\n",
       "      <th>2</th>\n",
       "      <td>1992_ARIZONA</td>\n",
       "      <td>ARIZONA</td>\n",
       "      <td>1992</td>\n",
       "      <td>NaN</td>\n",
       "      <td>3258079.0</td>\n",
       "      <td>297888.0</td>\n",
       "      <td>1369815.0</td>\n",
       "      <td>1590376.0</td>\n",
       "      <td>3401580.0</td>\n",
       "      <td>1435908.0</td>\n",
       "      <td>...</td>\n",
       "      <td>49081.0</td>\n",
       "      <td>37410.0</td>\n",
       "      <td>NaN</td>\n",
       "      <td>NaN</td>\n",
       "      <td>673477.0</td>\n",
       "      <td>215.0</td>\n",
       "      <td>265.0</td>\n",
       "      <td>209.0</td>\n",
       "      <td>NaN</td>\n",
       "      <td>1.496312</td>\n",
       "    </tr>\n",
       "    <tr>\n",
       "      <th>3</th>\n",
       "      <td>1992_ARKANSAS</td>\n",
       "      <td>ARKANSAS</td>\n",
       "      <td>1992</td>\n",
       "      <td>NaN</td>\n",
       "      <td>1711959.0</td>\n",
       "      <td>178571.0</td>\n",
       "      <td>958785.0</td>\n",
       "      <td>574603.0</td>\n",
       "      <td>1743022.0</td>\n",
       "      <td>964323.0</td>\n",
       "      <td>...</td>\n",
       "      <td>36011.0</td>\n",
       "      <td>27651.0</td>\n",
       "      <td>NaN</td>\n",
       "      <td>NaN</td>\n",
       "      <td>441490.0</td>\n",
       "      <td>210.0</td>\n",
       "      <td>256.0</td>\n",
       "      <td>211.0</td>\n",
       "      <td>NaN</td>\n",
       "      <td>1.095128</td>\n",
       "    </tr>\n",
       "    <tr>\n",
       "      <th>4</th>\n",
       "      <td>1992_CALIFORNIA</td>\n",
       "      <td>CALIFORNIA</td>\n",
       "      <td>1992</td>\n",
       "      <td>NaN</td>\n",
       "      <td>26260025.0</td>\n",
       "      <td>2072470.0</td>\n",
       "      <td>16546514.0</td>\n",
       "      <td>7641041.0</td>\n",
       "      <td>27138832.0</td>\n",
       "      <td>14358922.0</td>\n",
       "      <td>...</td>\n",
       "      <td>363296.0</td>\n",
       "      <td>270675.0</td>\n",
       "      <td>NaN</td>\n",
       "      <td>NaN</td>\n",
       "      <td>5254844.0</td>\n",
       "      <td>208.0</td>\n",
       "      <td>261.0</td>\n",
       "      <td>202.0</td>\n",
       "      <td>NaN</td>\n",
       "      <td>1.621537</td>\n",
       "    </tr>\n",
       "    <tr>\n",
       "      <th>...</th>\n",
       "      <td>...</td>\n",
       "      <td>...</td>\n",
       "      <td>...</td>\n",
       "      <td>...</td>\n",
       "      <td>...</td>\n",
       "      <td>...</td>\n",
       "      <td>...</td>\n",
       "      <td>...</td>\n",
       "      <td>...</td>\n",
       "      <td>...</td>\n",
       "      <td>...</td>\n",
       "      <td>...</td>\n",
       "      <td>...</td>\n",
       "      <td>...</td>\n",
       "      <td>...</td>\n",
       "      <td>...</td>\n",
       "      <td>...</td>\n",
       "      <td>...</td>\n",
       "      <td>...</td>\n",
       "      <td>...</td>\n",
       "      <td>...</td>\n",
       "    </tr>\n",
       "    <tr>\n",
       "      <th>1710</th>\n",
       "      <td>2019_VIRGINIA</td>\n",
       "      <td>VIRGINIA</td>\n",
       "      <td>2019</td>\n",
       "      <td>NaN</td>\n",
       "      <td>NaN</td>\n",
       "      <td>NaN</td>\n",
       "      <td>NaN</td>\n",
       "      <td>NaN</td>\n",
       "      <td>NaN</td>\n",
       "      <td>NaN</td>\n",
       "      <td>...</td>\n",
       "      <td>NaN</td>\n",
       "      <td>NaN</td>\n",
       "      <td>NaN</td>\n",
       "      <td>NaN</td>\n",
       "      <td>NaN</td>\n",
       "      <td>247.0</td>\n",
       "      <td>287.0</td>\n",
       "      <td>224.0</td>\n",
       "      <td>262.0</td>\n",
       "      <td>NaN</td>\n",
       "    </tr>\n",
       "    <tr>\n",
       "      <th>1711</th>\n",
       "      <td>2019_WASHINGTON</td>\n",
       "      <td>WASHINGTON</td>\n",
       "      <td>2019</td>\n",
       "      <td>NaN</td>\n",
       "      <td>NaN</td>\n",
       "      <td>NaN</td>\n",
       "      <td>NaN</td>\n",
       "      <td>NaN</td>\n",
       "      <td>NaN</td>\n",
       "      <td>NaN</td>\n",
       "      <td>...</td>\n",
       "      <td>NaN</td>\n",
       "      <td>NaN</td>\n",
       "      <td>NaN</td>\n",
       "      <td>NaN</td>\n",
       "      <td>NaN</td>\n",
       "      <td>240.0</td>\n",
       "      <td>286.0</td>\n",
       "      <td>220.0</td>\n",
       "      <td>266.0</td>\n",
       "      <td>NaN</td>\n",
       "    </tr>\n",
       "    <tr>\n",
       "      <th>1712</th>\n",
       "      <td>2019_WEST_VIRGINIA</td>\n",
       "      <td>WEST_VIRGINIA</td>\n",
       "      <td>2019</td>\n",
       "      <td>NaN</td>\n",
       "      <td>NaN</td>\n",
       "      <td>NaN</td>\n",
       "      <td>NaN</td>\n",
       "      <td>NaN</td>\n",
       "      <td>NaN</td>\n",
       "      <td>NaN</td>\n",
       "      <td>...</td>\n",
       "      <td>NaN</td>\n",
       "      <td>NaN</td>\n",
       "      <td>NaN</td>\n",
       "      <td>NaN</td>\n",
       "      <td>NaN</td>\n",
       "      <td>231.0</td>\n",
       "      <td>272.0</td>\n",
       "      <td>213.0</td>\n",
       "      <td>256.0</td>\n",
       "      <td>NaN</td>\n",
       "    </tr>\n",
       "    <tr>\n",
       "      <th>1713</th>\n",
       "      <td>2019_WISCONSIN</td>\n",
       "      <td>WISCONSIN</td>\n",
       "      <td>2019</td>\n",
       "      <td>NaN</td>\n",
       "      <td>NaN</td>\n",
       "      <td>NaN</td>\n",
       "      <td>NaN</td>\n",
       "      <td>NaN</td>\n",
       "      <td>NaN</td>\n",
       "      <td>NaN</td>\n",
       "      <td>...</td>\n",
       "      <td>NaN</td>\n",
       "      <td>NaN</td>\n",
       "      <td>NaN</td>\n",
       "      <td>NaN</td>\n",
       "      <td>NaN</td>\n",
       "      <td>242.0</td>\n",
       "      <td>289.0</td>\n",
       "      <td>220.0</td>\n",
       "      <td>267.0</td>\n",
       "      <td>NaN</td>\n",
       "    </tr>\n",
       "    <tr>\n",
       "      <th>1714</th>\n",
       "      <td>2019_WYOMING</td>\n",
       "      <td>WYOMING</td>\n",
       "      <td>2019</td>\n",
       "      <td>NaN</td>\n",
       "      <td>NaN</td>\n",
       "      <td>NaN</td>\n",
       "      <td>NaN</td>\n",
       "      <td>NaN</td>\n",
       "      <td>NaN</td>\n",
       "      <td>NaN</td>\n",
       "      <td>...</td>\n",
       "      <td>NaN</td>\n",
       "      <td>NaN</td>\n",
       "      <td>NaN</td>\n",
       "      <td>NaN</td>\n",
       "      <td>NaN</td>\n",
       "      <td>246.0</td>\n",
       "      <td>286.0</td>\n",
       "      <td>227.0</td>\n",
       "      <td>265.0</td>\n",
       "      <td>NaN</td>\n",
       "    </tr>\n",
       "  </tbody>\n",
       "</table>\n",
       "<p>1715 rows × 26 columns</p>\n",
       "</div>"
      ],
      "text/plain": [
       "             PRIMARY_KEY          STATE  YEAR  ENROLL_ALL_EST  TOTAL_REVENUE  \\\n",
       "0           1992_ALABAMA        ALABAMA  1992             NaN      2678885.0   \n",
       "1            1992_ALASKA         ALASKA  1992             NaN      1049591.0   \n",
       "2           1992_ARIZONA        ARIZONA  1992             NaN      3258079.0   \n",
       "3          1992_ARKANSAS       ARKANSAS  1992             NaN      1711959.0   \n",
       "4        1992_CALIFORNIA     CALIFORNIA  1992             NaN     26260025.0   \n",
       "...                  ...            ...   ...             ...            ...   \n",
       "1710       2019_VIRGINIA       VIRGINIA  2019             NaN            NaN   \n",
       "1711     2019_WASHINGTON     WASHINGTON  2019             NaN            NaN   \n",
       "1712  2019_WEST_VIRGINIA  WEST_VIRGINIA  2019             NaN            NaN   \n",
       "1713      2019_WISCONSIN      WISCONSIN  2019             NaN            NaN   \n",
       "1714        2019_WYOMING        WYOMING  2019             NaN            NaN   \n",
       "\n",
       "      FEDERAL_REVENUE  STATE_REVENUE  LOCAL_REVENUE  TOTAL_EXPENDITURE  \\\n",
       "0            304177.0      1659028.0       715680.0          2653798.0   \n",
       "1            106780.0       720711.0       222100.0           972488.0   \n",
       "2            297888.0      1369815.0      1590376.0          3401580.0   \n",
       "3            178571.0       958785.0       574603.0          1743022.0   \n",
       "4           2072470.0     16546514.0      7641041.0         27138832.0   \n",
       "...               ...            ...            ...                ...   \n",
       "1710              NaN            NaN            NaN                NaN   \n",
       "1711              NaN            NaN            NaN                NaN   \n",
       "1712              NaN            NaN            NaN                NaN   \n",
       "1713              NaN            NaN            NaN                NaN   \n",
       "1714              NaN            NaN            NaN                NaN   \n",
       "\n",
       "      INSTRUCTION_EXPENDITURE  ...  ENROLL_8  ENROLL_12  ENROLL_PRIMARY  \\\n",
       "0                   1481703.0  ...   58025.0    41167.0             NaN   \n",
       "1                    498362.0  ...    8789.0     6714.0             NaN   \n",
       "2                   1435908.0  ...   49081.0    37410.0             NaN   \n",
       "3                    964323.0  ...   36011.0    27651.0             NaN   \n",
       "4                  14358922.0  ...  363296.0   270675.0             NaN   \n",
       "...                       ...  ...       ...        ...             ...   \n",
       "1710                      NaN  ...       NaN        NaN             NaN   \n",
       "1711                      NaN  ...       NaN        NaN             NaN   \n",
       "1712                      NaN  ...       NaN        NaN             NaN   \n",
       "1713                      NaN  ...       NaN        NaN             NaN   \n",
       "1714                      NaN  ...       NaN        NaN             NaN   \n",
       "\n",
       "      ENROLL_HS  ENROLL_ALL  AVG_MATH_4_SCORE  AVG_MATH_8_SCORE  \\\n",
       "0           NaN    731634.0             208.0             252.0   \n",
       "1           NaN    122487.0               NaN               NaN   \n",
       "2           NaN    673477.0             215.0             265.0   \n",
       "3           NaN    441490.0             210.0             256.0   \n",
       "4           NaN   5254844.0             208.0             261.0   \n",
       "...         ...         ...               ...               ...   \n",
       "1710        NaN         NaN             247.0             287.0   \n",
       "1711        NaN         NaN             240.0             286.0   \n",
       "1712        NaN         NaN             231.0             272.0   \n",
       "1713        NaN         NaN             242.0             289.0   \n",
       "1714        NaN         NaN             246.0             286.0   \n",
       "\n",
       "      AVG_READING_4_SCORE  AVG_READING_8_SCORE  \\\n",
       "0                   207.0                  NaN   \n",
       "1                     NaN                  NaN   \n",
       "2                   209.0                  NaN   \n",
       "3                   211.0                  NaN   \n",
       "4                   202.0                  NaN   \n",
       "...                   ...                  ...   \n",
       "1710                224.0                262.0   \n",
       "1711                220.0                266.0   \n",
       "1712                213.0                256.0   \n",
       "1713                220.0                267.0   \n",
       "1714                227.0                265.0   \n",
       "\n",
       "      SUPPORT_SERVICES_EXPENDITURE_PER_STUDENT  \n",
       "0                                     1.004650  \n",
       "1                                     2.864810  \n",
       "2                                     1.496312  \n",
       "3                                     1.095128  \n",
       "4                                     1.621537  \n",
       "...                                        ...  \n",
       "1710                                       NaN  \n",
       "1711                                       NaN  \n",
       "1712                                       NaN  \n",
       "1713                                       NaN  \n",
       "1714                                       NaN  \n",
       "\n",
       "[1715 rows x 26 columns]"
      ]
     },
     "execution_count": 39,
     "metadata": {},
     "output_type": "execute_result"
    }
   ],
   "source": [
    "df[\"SUPPORT_SERVICES_EXPENDITURE_PER_STUDENT\"] = df[\"SUPPORT_SERVICES_EXPENDITURE\"] / df[\"ENROLL_ALL\"]\n",
    "df"
   ]
  },
  {
   "cell_type": "markdown",
   "metadata": {},
   "source": [
    "Feature engineering justification: **<BRIEFLY DESCRIBE WHY YOU MADE THE CHANGES THAT YOU DID\\>**"
   ]
  },
  {
   "cell_type": "markdown",
   "metadata": {},
   "source": [
    "<h2>Visualization</h2>\n",
    "\n",
    "Investigate the relationship between your chosen response variable and at least two predictors using visualizations. Write down your observations.\n",
    "\n",
    "**Visualization 1**"
   ]
  },
  {
   "cell_type": "code",
   "execution_count": 45,
   "metadata": {},
   "outputs": [
    {
     "data": {
      "text/plain": [
       "Text(0, 0.5, '4th Grade Math Score')"
      ]
     },
     "execution_count": 45,
     "metadata": {},
     "output_type": "execute_result"
    },
    {
     "data": {
      "image/png": "[encoded data removed]",
      "text/plain": [
       "<Figure size 432x288 with 1 Axes>"
      ]
     },
     "metadata": {
      "needs_background": "light"
     },
     "output_type": "display_data"
    }
   ],
   "source": [
    "df.plot.scatter(x=\"SUPPORT_SERVICES_EXPENDITURE_PER_STUDENT\", y='AVG_MATH_4_SCORE', alpha=1)\n",
    "\n",
    "plt.xlabel('Support Services Expenditure Per Student Revenue')\n",
    "plt.ylabel('4th Grade Math Score')"
   ]
  },
  {
   "cell_type": "markdown",
   "metadata": {},
   "source": [
    "**<CAPTION FOR VIZ 1>**"
   ]
  },
  {
   "cell_type": "markdown",
   "metadata": {},
   "source": [
    "**Visualization 2**"
   ]
  },
  {
   "cell_type": "code",
   "execution_count": 48,
   "metadata": {},
   "outputs": [
    {
     "data": {
      "text/plain": [
       "Text(0, 0.5, '4th Grade Math Score')"
      ]
     },
     "execution_count": 48,
     "metadata": {},
     "output_type": "execute_result"
    },
    {
     "data": {
      "image/png": "[encoded data removed]",
      "text/plain": [
       "<Figure size 432x288 with 1 Axes>"
      ]
     },
     "metadata": {
      "needs_background": "light"
     },
     "output_type": "display_data"
    }
   ],
   "source": [
    "df.plot.scatter(x=\"AVG_READING_4_SCORE\", y=\"AVG_MATH_4_SCORE\", alpha=1)\n",
    "\n",
    "plt.xlabel('4th Grade Reading Score')\n",
    "plt.ylabel('4th Grade Math Score')"
   ]
  },
  {
   "cell_type": "markdown",
   "metadata": {},
   "source": [
    "**<CAPTION FOR VIZ 2>**"
   ]
  },
  {
   "cell_type": "markdown",
   "metadata": {},
   "source": [
    "<h2> Data Creation </h2>\n",
    "\n",
    "_Use this space to create train/test data_"
   ]
  },
  {
   "cell_type": "code",
   "execution_count": 49,
   "metadata": {},
   "outputs": [],
   "source": [
    "from sklearn.model_selection import train_test_split"
   ]
  },
  {
   "cell_type": "code",
   "execution_count": 83,
   "metadata": {},
   "outputs": [],
   "source": [
    "X = df[[\"SUPPORT_SERVICES_EXPENDITURE_PER_STUDENT\", \"ENROLL_4\", \"AVG_READING_4_SCORE\"]].dropna()\n",
    "y = df.loc[X.index]['AVG_MATH_4_SCORE']\n",
    "\n",
    "y.fillna(y.median(), inplace=True)\n"
   ]
  },
  {
   "cell_type": "code",
   "execution_count": 84,
   "metadata": {},
   "outputs": [],
   "source": [
    "X_train, X_test, y_train, y_test = train_test_split(\n",
    "    X, y, test_size=.3, random_state=42)"
   ]
  },
  {
   "cell_type": "markdown",
   "metadata": {},
   "source": [
    "<h2> Prediction </h2>"
   ]
  },
  {
   "cell_type": "markdown",
   "metadata": {},
   "source": [
    "ML Models [Resource](https://medium.com/@vijaya.beeravalli/comparison-of-machine-learning-classification-models-for-credit-card-default-data-c3cf805c9a5a)"
   ]
  },
  {
   "cell_type": "code",
   "execution_count": 85,
   "metadata": {},
   "outputs": [],
   "source": [
    "# import your sklearn class here\n",
    "from sklearn.linear_model import LinearRegression"
   ]
  },
  {
   "cell_type": "code",
   "execution_count": 86,
   "metadata": {},
   "outputs": [],
   "source": [
    "# create your model here\n",
    "model = LinearRegression()"
   ]
  },
  {
   "cell_type": "code",
   "execution_count": 87,
   "metadata": {},
   "outputs": [
    {
     "data": {
      "text/html": [
       "<style>#sk-container-id-3 {color: black;}#sk-container-id-3 pre{padding: 0;}#sk-container-id-3 div.sk-toggleable {background-color: white;}#sk-container-id-3 label.sk-toggleable__label {cursor: pointer;display: block;width: 100%;margin-bottom: 0;padding: 0.3em;box-sizing: border-box;text-align: center;}#sk-container-id-3 label.sk-toggleable__label-arrow:before {content: \"▸\";float: left;margin-right: 0.25em;color: #696969;}#sk-container-id-3 label.sk-toggleable__label-arrow:hover:before {color: black;}#sk-container-id-3 div.sk-estimator:hover label.sk-toggleable__label-arrow:before {color: black;}#sk-container-id-3 div.sk-toggleable__content {max-height: 0;max-width: 0;overflow: hidden;text-align: left;background-color: #f0f8ff;}#sk-container-id-3 div.sk-toggleable__content pre {margin: 0.2em;color: black;border-radius: 0.25em;background-color: #f0f8ff;}#sk-container-id-3 input.sk-toggleable__control:checked~div.sk-toggleable__content {max-height: 200px;max-width: 100%;overflow: auto;}#sk-container-id-3 input.sk-toggleable__control:checked~label.sk-toggleable__label-arrow:before {content: \"▾\";}#sk-container-id-3 div.sk-estimator input.sk-toggleable__control:checked~label.sk-toggleable__label {background-color: #d4ebff;}#sk-container-id-3 div.sk-label input.sk-toggleable__control:checked~label.sk-toggleable__label {background-color: #d4ebff;}#sk-container-id-3 input.sk-hidden--visually {border: 0;clip: rect(1px 1px 1px 1px);clip: rect(1px, 1px, 1px, 1px);height: 1px;margin: -1px;overflow: hidden;padding: 0;position: absolute;width: 1px;}#sk-container-id-3 div.sk-estimator {font-family: monospace;background-color: #f0f8ff;border: 1px dotted black;border-radius: 0.25em;box-sizing: border-box;margin-bottom: 0.5em;}#sk-container-id-3 div.sk-estimator:hover {background-color: #d4ebff;}#sk-container-id-3 div.sk-parallel-item::after {content: \"\";width: 100%;border-bottom: 1px solid gray;flex-grow: 1;}#sk-container-id-3 div.sk-label:hover label.sk-toggleable__label {background-color: #d4ebff;}#sk-container-id-3 div.sk-serial::before {content: \"\";position: absolute;border-left: 1px solid gray;box-sizing: border-box;top: 0;bottom: 0;left: 50%;z-index: 0;}#sk-container-id-3 div.sk-serial {display: flex;flex-direction: column;align-items: center;background-color: white;padding-right: 0.2em;padding-left: 0.2em;position: relative;}#sk-container-id-3 div.sk-item {position: relative;z-index: 1;}#sk-container-id-3 div.sk-parallel {display: flex;align-items: stretch;justify-content: center;background-color: white;position: relative;}#sk-container-id-3 div.sk-item::before, #sk-container-id-3 div.sk-parallel-item::before {content: \"\";position: absolute;border-left: 1px solid gray;box-sizing: border-box;top: 0;bottom: 0;left: 50%;z-index: -1;}#sk-container-id-3 div.sk-parallel-item {display: flex;flex-direction: column;z-index: 1;position: relative;background-color: white;}#sk-container-id-3 div.sk-parallel-item:first-child::after {align-self: flex-end;width: 50%;}#sk-container-id-3 div.sk-parallel-item:last-child::after {align-self: flex-start;width: 50%;}#sk-container-id-3 div.sk-parallel-item:only-child::after {width: 0;}#sk-container-id-3 div.sk-dashed-wrapped {border: 1px dashed gray;margin: 0 0.4em 0.5em 0.4em;box-sizing: border-box;padding-bottom: 0.4em;background-color: white;}#sk-container-id-3 div.sk-label label {font-family: monospace;font-weight: bold;display: inline-block;line-height: 1.2em;}#sk-container-id-3 div.sk-label-container {text-align: center;}#sk-container-id-3 div.sk-container {/* jupyter's `normalize.less` sets `[hidden] { display: none; }` but bootstrap.min.css set `[hidden] { display: none !important; }` so we also need the `!important` here to be able to override the default hidden behavior on the sphinx rendered scikit-learn.org. See: https://github.com/scikit-learn/scikit-learn/issues/21755 */display: inline-block !important;position: relative;}#sk-container-id-3 div.sk-text-repr-fallback {display: none;}</style><div id=\"sk-container-id-3\" class=\"sk-top-container\"><div class=\"sk-text-repr-fallback\"><pre>LinearRegression()</pre><b>In a Jupyter environment, please rerun this cell to show the HTML representation or trust the notebook. <br />On GitHub, the HTML representation is unable to render, please try loading this page with nbviewer.org.</b></div><div class=\"sk-container\" hidden><div class=\"sk-item\"><div class=\"sk-estimator sk-toggleable\"><input class=\"sk-toggleable__control sk-hidden--visually\" id=\"sk-estimator-id-3\" type=\"checkbox\" checked><label for=\"sk-estimator-id-3\" class=\"sk-toggleable__label sk-toggleable__label-arrow\">LinearRegression</label><div class=\"sk-toggleable__content\"><pre>LinearRegression()</pre></div></div></div></div></div>"
      ],
      "text/plain": [
       "LinearRegression()"
      ]
     },
     "execution_count": 87,
     "metadata": {},
     "output_type": "execute_result"
    }
   ],
   "source": [
    "model.fit(X_train, y_train)"
   ]
  },
  {
   "cell_type": "code",
   "execution_count": 88,
   "metadata": {},
   "outputs": [],
   "source": [
    "y_pred = model.predict(X_test)"
   ]
  },
  {
   "cell_type": "markdown",
   "metadata": {},
   "source": [
    "## Evaluation"
   ]
  },
  {
   "cell_type": "markdown",
   "metadata": {},
   "source": [
    "Choose some metrics to evaluate the performance of your model, some of them are mentioned in the tutorial."
   ]
  },
  {
   "cell_type": "code",
   "execution_count": 89,
   "metadata": {
    "scrolled": true
   },
   "outputs": [
    {
     "name": "stdout",
     "output_type": "stream",
     "text": [
      "114.44366035096742\n",
      "[1.14336497e+00 2.90263062e-06 5.46450665e-01]\n"
     ]
    }
   ],
   "source": [
    "# You can see the intercepts and coefficients the model generates\n",
    "print(model.intercept_)\n",
    "print(model.coef_)"
   ]
  },
  {
   "cell_type": "code",
   "execution_count": 90,
   "metadata": {},
   "outputs": [
    {
     "data": {
      "text/plain": [
       "0.3338978344880287"
      ]
     },
     "execution_count": 90,
     "metadata": {},
     "output_type": "execute_result"
    }
   ],
   "source": [
    "# R^2 value describes how well a linear model fits the data\n",
    "# It ranges between 0 and 1\n",
    "# There are many caveats to R^2 but it is a good starting point\n",
    "model.score(X_test, y_test)"
   ]
  },
  {
   "cell_type": "code",
   "execution_count": 91,
   "metadata": {},
   "outputs": [
    {
     "data": {
      "text/plain": [
       "0.45414738586094006"
      ]
     },
     "execution_count": 91,
     "metadata": {},
     "output_type": "execute_result"
    }
   ],
   "source": [
    "# mean error\n",
    "np.mean(model.predict(X_test)-y_test)"
   ]
  },
  {
   "cell_type": "code",
   "execution_count": 92,
   "metadata": {},
   "outputs": [
    {
     "data": {
      "text/plain": [
       "4.891726390351831"
      ]
     },
     "execution_count": 92,
     "metadata": {},
     "output_type": "execute_result"
    }
   ],
   "source": [
    "# mean absolute error\n",
    "np.mean(np.abs(model.predict(X_test)-y_test))"
   ]
  },
  {
   "cell_type": "code",
   "execution_count": 93,
   "metadata": {},
   "outputs": [
    {
     "data": {
      "text/plain": [
       "7.068602968191912"
      ]
     },
     "execution_count": 93,
     "metadata": {},
     "output_type": "execute_result"
    }
   ],
   "source": [
    "# root mean squared error -- penalizes large errors\n",
    "np.mean((model.predict(X_test)-y_test)**2)**0.5"
   ]
  },
  {
   "cell_type": "markdown",
   "metadata": {},
   "source": [
    "We have copied over the graphs that visualize the model's performance on the training and testing set. \n",
    "\n",
    "Change `col_name` and modify the call to `plt.ylabel()` to isolate how a single predictor affects the model."
   ]
  },
  {
   "cell_type": "code",
   "execution_count": 81,
   "metadata": {},
   "outputs": [
    {
     "data": {
      "text/plain": [
       "Text(0.5, 1.0, 'Model Behavior On Training Set')"
      ]
     },
     "execution_count": 81,
     "metadata": {},
     "output_type": "execute_result"
    },
    {
     "data": {
      "image/png": "[encoded data removed]",
      "text/plain": [
       "<Figure size 864x432 with 1 Axes>"
      ]
     },
     "metadata": {
      "needs_background": "light"
     },
     "output_type": "display_data"
    }
   ],
   "source": [
    "col_name = \"SUPPORT_SERVICES_EXPENDITURE_PER_STUDENT\"\n",
    "f = plt.figure(figsize=(12,6))\n",
    "plt.scatter(X_train[col_name], y_train, color=\"red\")\n",
    "plt.scatter(X_train[col_name], model.predict(X_train), color=\"green\")\n",
    "plt.legend(['True Training', 'Predicted Training'])\n",
    "plt.xlabel(col_name)\n",
    "plt.ylabel(\"SUPPORT_SERVICES_EXPENDITURE_PER_STUDENT\")\n",
    "plt.title(\"Model Behavior On Training Set\")"
   ]
  },
  {
   "cell_type": "code",
   "execution_count": 82,
   "metadata": {},
   "outputs": [
    {
     "data": {
      "text/plain": [
       "Text(0.5, 1.0, 'Model Behavior on Testing Set')"
      ]
     },
     "execution_count": 82,
     "metadata": {},
     "output_type": "execute_result"
    },
    {
     "data": {
      "image/png": "[encoded data removed]",
      "text/plain": [
       "<Figure size 864x432 with 1 Axes>"
      ]
     },
     "metadata": {
      "needs_background": "light"
     },
     "output_type": "display_data"
    }
   ],
   "source": [
    "col_name = \"AVG_READING_4_SCORE\"\n",
    "f = plt.figure(figsize=(12,6))\n",
    "plt.scatter(X_test[col_name], y_test, color=\"blue\")\n",
    "plt.scatter(X_test[col_name], model.predict(X_test), color=\"black\")\n",
    "plt.legend(['True testing', 'Predicted testing'])\n",
    "plt.xlabel(col_name)\n",
    "plt.ylabel(\"AVG_READING_4_SCORE\")\n",
    "plt.title(\"Model Behavior on Testing Set\")\n"
   ]
  },
  {
   "cell_type": "markdown",
   "metadata": {},
   "source": [
    "<h2> Summary </h2>"
   ]
  },
  {
   "cell_type": "markdown",
   "metadata": {},
   "source": [
    "**<WRITE A PARAGRAPH SUMMARIZING YOUR WORK, FINDINGS, AND THE PERFORMANCE OF YOUR MODEL\\>**"
   ]
  },
  {
   "cell_type": "code",
   "execution_count": null,
   "metadata": {},
   "outputs": [],
   "source": []
  },
  {
   "cell_type": "code",
   "execution_count": null,
   "metadata": {},
   "outputs": [],
   "source": []
  },
  {
   "cell_type": "code",
   "execution_count": null,
   "metadata": {},
   "outputs": [],
   "source": []
  },
  {
   "cell_type": "code",
   "execution_count": null,
   "metadata": {},
   "outputs": [],
   "source": []
  }
 ],
 "metadata": {
  "kernelspec": {
   "display_name": "Python 3 (ipykernel)",
   "language": "python",
   "name": "python3"
  },
  "language_info": {
   "codemirror_mode": {
    "name": "ipython",
    "version": 3
   },
   "file_extension": ".py",
   "mimetype": "text/x-python",
   "name": "python",
   "nbconvert_exporter": "python",
   "pygments_lexer": "ipython3",
   "version": "3.9.12"
  },
  "vscode": {
   "interpreter": {
    "hash": "6cf8df3ff69f85f626faf55c10df6fe2cb9d1236b4dc73844ee4dc01369c2c99"
   }
  }
 },
 "nbformat": 4,
 "nbformat_minor": 4
}
